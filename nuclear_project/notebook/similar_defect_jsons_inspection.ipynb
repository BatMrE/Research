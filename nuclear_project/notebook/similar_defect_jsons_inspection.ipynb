{
  "nbformat": 4,
  "nbformat_minor": 0,
  "metadata": {
    "colab": {
      "provenance": []
    },
    "kernelspec": {
      "name": "python3",
      "display_name": "Python 3"
    },
    "language_info": {
      "name": "python"
    }
  },
  "cells": [
    {
      "cell_type": "code",
      "execution_count": 1,
      "metadata": {
        "colab": {
          "base_uri": "https://localhost:8080/"
        },
        "id": "plvkv2SQ_2jt",
        "outputId": "a725d6fd-5b83-44d1-cddb-7f9b7d10a017"
      },
      "outputs": [
        {
          "output_type": "stream",
          "name": "stdout",
          "text": [
            "Error decoding JSON: Expecting property name enclosed in double quotes: line 1 column 2 (char 1) - Problematic Data: {{\"flaws\":[{\"noise_threshold\":\"919\",\"original_location\":\"652-708\",\"equivalent_flawsize\":\"6.874862814591331\",\"location_max\":\"3802\",\"size\":\"8.6\",\"max_amplitude\":\"23474\",\"location\":\"3450-3802\",\"location_min\":\"3450\",\"noise_flawsize\":\"0.33668739882423104\",\"factor\":\"0.7912293448558145\"}]\n",
            "Error decoding JSON: Extra data: line 1 column 8 (char 7) - Problematic Data: \"flaws\":[{\"noise_threshold\":\"934\",\"original_location\":\"711-750\",\"equivalent_flawsize\":\"3.240864566474918\",\"location_max\":\"1237.5800811193699\",\"size\":\"4.0\",\"max_amplitude\":\"7414\",\"location\":\"1760.2731277533044-2194.7709251101323\",\"location_min\":\"992.5769178520836\",\"noise_flawsize\":\"0.503911518748314\",\"factor\":\"0.7828614928952562\"}]}}\n",
            "Total valid JSON objects found: 98\n"
          ]
        }
      ],
      "source": [
        "import json\n",
        "\n",
        "def count_json_objects(json_file_path):\n",
        "    count = 0\n",
        "    with open(json_file_path, 'r') as file:\n",
        "        content = file.read().strip()\n",
        "\n",
        "        json_objects = content.split('}{')\n",
        "        for i in range(len(json_objects)):\n",
        "            if i == 0:\n",
        "                json_objects[i] = \"{\" + json_objects[i]\n",
        "            elif i == len(json_objects) - 1:\n",
        "                json_objects[i] = json_objects[i] + \"}\"\n",
        "            else:\n",
        "                json_objects[i] = \"{\" + json_objects[i] + \"}\"\n",
        "        for obj in json_objects:\n",
        "            try:\n",
        "                json.loads(obj)\n",
        "                count += 1  # Increment count for valid JSON object\n",
        "            except json.JSONDecodeError as e:\n",
        "                print(f\"Error decoding JSON: {e} - Problematic Data: {obj}\")\n",
        "\n",
        "    return count\n",
        "\n",
        "json_file_path = \"/content/0275DE06-7EB3-4D99-B71D-39F259B64862.jsons\"\n",
        "json_object_count = count_json_objects(json_file_path)\n",
        "print(f\"Total valid JSON objects found: {json_object_count}\")\n"
      ]
    },
    {
      "cell_type": "code",
      "source": [
        "import json\n",
        "\n",
        "def clean_and_parse_json_objects(json_file_path):\n",
        "    count = 0\n",
        "    valid_objects = []\n",
        "    with open(json_file_path, 'r') as file:\n",
        "        content = file.read().strip()\n",
        "\n",
        "        potential_objects = content.split('}{')\n",
        "\n",
        "        for i, obj in enumerate(potential_objects):\n",
        "            if i == 0:\n",
        "                obj = obj + \"}\"\n",
        "            elif i == len(potential_objects) - 1:\n",
        "                obj = \"{\" + obj\n",
        "            else:\n",
        "                obj = \"{\" + obj + \"}\"\n",
        "            try:\n",
        "                parsed = json.loads(obj)\n",
        "                valid_objects.append(parsed)\n",
        "                count += 1\n",
        "            except json.JSONDecodeError as e:\n",
        "                print(f\"Error decoding JSON: {e} - Problematic Data: {obj}\")\n",
        "                try:\n",
        "                    fixed_obj = obj.strip().rstrip(']').rstrip('}') + ']}'\n",
        "                    parsed = json.loads(fixed_obj)\n",
        "                    valid_objects.append(parsed)\n",
        "                    count += 1\n",
        "                except json.JSONDecodeError as clean_error:\n",
        "                    print(f\"Still invalid after cleaning: {clean_error} - Data: {fixed_obj}\")\n",
        "\n",
        "    return count, valid_objects\n",
        "\n",
        "json_file_path = \"/content/0275DE06-7EB3-4D99-B71D-39F259B64862.jsons\"\n",
        "count, valid_objects = clean_and_parse_json_objects(json_file_path)\n",
        "\n",
        "print(f\"Total valid JSON objects found: {count}\")\n"
      ],
      "metadata": {
        "colab": {
          "base_uri": "https://localhost:8080/"
        },
        "id": "2SnNifm7Ar2M",
        "outputId": "22a1a7e0-b9f9-4d25-f451-86186db1d8a8"
      },
      "execution_count": 4,
      "outputs": [
        {
          "output_type": "stream",
          "name": "stdout",
          "text": [
            "Total valid JSON objects found: 100\n"
          ]
        }
      ]
    },
    {
      "cell_type": "code",
      "source": [
        "import json\n",
        "import os\n",
        "\n",
        "def clean_and_extract_json_objects(json_file_path, output_dir):\n",
        "    \"\"\"\n",
        "    Extract, clean, and save valid JSON objects from a .jsons file into separate files.\n",
        "    \"\"\"\n",
        "    count = 0\n",
        "    valid_objects = []\n",
        "    os.makedirs(output_dir, exist_ok=True)\n",
        "\n",
        "    with open(json_file_path, 'r') as file:\n",
        "        content = file.read().strip()\n",
        "\n",
        "        potential_objects = content.split('}{')\n",
        "\n",
        "        for i, obj in enumerate(potential_objects):\n",
        "            if i == 0:\n",
        "                obj = obj + \"}\"\n",
        "            elif i == len(potential_objects) - 1:\n",
        "                obj = \"{\" + obj\n",
        "            else:\n",
        "                obj = \"{\" + obj + \"}\"\n",
        "\n",
        "            try:\n",
        "                parsed = json.loads(obj)\n",
        "                valid_objects.append(parsed)\n",
        "                count += 1\n",
        "\n",
        "                with open(os.path.join(output_dir, f\"object_{count}.json\"), 'w') as output_file:\n",
        "                    json.dump(parsed, output_file, indent=4)\n",
        "\n",
        "            except json.JSONDecodeError as e:\n",
        "                print(f\"Error decoding JSON: {e} - Problematic Data: {obj}\")\n",
        "                try:\n",
        "                    fixed_obj = obj.strip().rstrip(']').rstrip('}') + ']}'\n",
        "                    parsed = json.loads(fixed_obj)\n",
        "                    valid_objects.append(parsed)\n",
        "                    count += 1\n",
        "\n",
        "                    with open(os.path.join(output_dir, f\"object_{count}.json\"), 'w') as output_file:\n",
        "                        json.dump(parsed, output_file, indent=4)\n",
        "                except json.JSONDecodeError as clean_error:\n",
        "                    print(f\"Still invalid after cleaning: {clean_error} - Data: {fixed_obj}\")\n",
        "\n",
        "    print(f\"Total valid JSON objects found: {count}\")\n",
        "    return valid_objects\n",
        "\n",
        "json_file_path = \"/content/0275DE06-7EB3-4D99-B71D-39F259B64862.jsons\"\n",
        "output_directory = \"output_json_objects\"\n",
        "valid_objects = clean_and_extract_json_objects(json_file_path, output_directory)\n"
      ],
      "metadata": {
        "colab": {
          "base_uri": "https://localhost:8080/"
        },
        "id": "kOVwXgWyD4JZ",
        "outputId": "18c776f1-6fa5-488a-ee8c-63356a4d0b0f"
      },
      "execution_count": 6,
      "outputs": [
        {
          "output_type": "stream",
          "name": "stdout",
          "text": [
            "Total valid JSON objects found: 100\n"
          ]
        }
      ]
    }
  ]
}